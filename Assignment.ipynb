{
 "cells": [
  {
   "cell_type": "markdown",
   "id": "46fd0e07",
   "metadata": {},
   "source": [
    "PYTHON ASSIGNMENT\n",
    "\n",
    "PART A\n",
    "\n",
    "1. Create an empty list and add elements to it using different methods."
   ]
  },
  {
   "cell_type": "code",
   "execution_count": 3,
   "id": "7846d1fa",
   "metadata": {},
   "outputs": [
    {
     "name": "stdout",
     "output_type": "stream",
     "text": [
      "[]\n",
      "\n",
      "['javaScript', 'Java', 'Python', 'C', 'C++']\n",
      "\n",
      "['MySQL', 'PHP', 'C#', 'JQuery']\n",
      "\n",
      "['javaScript', 'Java', 'Python', 'C', 'C++', 'MySQL', 'PHP', 'C#', 'JQuery']\n",
      "\n"
     ]
    }
   ],
   "source": [
    "languages = []\n",
    "print(languages)\n",
    "print()\n",
    "\n",
    "languages.append(\"javaScript\")\n",
    "languages.append(\"Python\")\n",
    "languages.append(\"C\")\n",
    "languages.append(\"C++\")\n",
    "languages.insert(1, \"Java\")\n",
    "print(languages)\n",
    "print()\n",
    "\n",
    "langu_ages = [\"MySQL\" , \"PHP\" , \"C#\" , \"JQuery\"]\n",
    "print(langu_ages)\n",
    "print()\n",
    "\n",
    "languages.extend(langu_ages)\n",
    "print(languages)\n",
    "print()"
   ]
  },
  {
   "cell_type": "markdown",
   "id": "a1137246",
   "metadata": {},
   "source": [
    "2. Initialize a list with a sequence of numbers from 1 to 10."
   ]
  },
  {
   "cell_type": "code",
   "execution_count": 8,
   "id": "e114260b",
   "metadata": {},
   "outputs": [
    {
     "name": "stdout",
     "output_type": "stream",
     "text": [
      "[1, 2, 3, 4, 5, 6, 7, 8, 9, 10]\n",
      "\n"
     ]
    }
   ],
   "source": [
    "numbers = []\n",
    "for x in range(1, 11):\n",
    "    numbers.append(x)\n",
    "print(numbers)\n",
    "print()\n"
   ]
  },
  {
   "cell_type": "markdown",
   "id": "38c40f1c",
   "metadata": {},
   "source": [
    "3. Initialize a list with a sequence of even numbers from 2 to 20."
   ]
  },
  {
   "cell_type": "code",
   "execution_count": 10,
   "id": "13cb0639",
   "metadata": {},
   "outputs": [
    {
     "name": "stdout",
     "output_type": "stream",
     "text": [
      "[2, 4, 6, 8, 10, 12, 14, 16, 18, 20]\n",
      "\n"
     ]
    }
   ],
   "source": [
    "even_numbers = []\n",
    "for y in range(2 , 21, 2):\n",
    "    even_numbers.append(y)\n",
    "    \n",
    "print(even_numbers)\n",
    "print()"
   ]
  },
  {
   "cell_type": "markdown",
   "id": "fde704af",
   "metadata": {},
   "source": [
    "4. Create a list containing the names of your favorite fruits."
   ]
  },
  {
   "cell_type": "code",
   "execution_count": 11,
   "id": "fd3171c0",
   "metadata": {},
   "outputs": [
    {
     "name": "stdout",
     "output_type": "stream",
     "text": [
      "['Mango', 'Apple', 'Passion', 'Bananas', 'Avocado']\n",
      "\n"
     ]
    }
   ],
   "source": [
    "fruits = [\"Mango\" , \"Apple\" , \"Passion\" , \"Bananas\" , \"Avocado\"]\n",
    "print(fruits)\n",
    "print()"
   ]
  },
  {
   "cell_type": "markdown",
   "id": "22e8ba3d",
   "metadata": {},
   "source": [
    "5. Access and print the first element of the list."
   ]
  },
  {
   "cell_type": "code",
   "execution_count": 12,
   "id": "248ec7a9",
   "metadata": {},
   "outputs": [
    {
     "name": "stdout",
     "output_type": "stream",
     "text": [
      "Mango\n",
      "\n"
     ]
    }
   ],
   "source": [
    "print(fruits[0])\n",
    "print()"
   ]
  },
  {
   "cell_type": "markdown",
   "id": "02915108",
   "metadata": {},
   "source": [
    "6. Access and print the last element of the list."
   ]
  },
  {
   "cell_type": "code",
   "execution_count": 14,
   "id": "b716ff7d",
   "metadata": {},
   "outputs": [
    {
     "name": "stdout",
     "output_type": "stream",
     "text": [
      "Avocado\n",
      "\n"
     ]
    }
   ],
   "source": [
    "print(fruits[4])\n",
    "print()"
   ]
  },
  {
   "cell_type": "markdown",
   "id": "52e552c5",
   "metadata": {},
   "source": [
    "7. Access and print a slice of the list containing the first three elements."
   ]
  },
  {
   "cell_type": "code",
   "execution_count": 16,
   "id": "55b4512b",
   "metadata": {},
   "outputs": [
    {
     "name": "stdout",
     "output_type": "stream",
     "text": [
      "['Mango', 'Apple', 'Passion']\n",
      "\n"
     ]
    }
   ],
   "source": [
    "print(fruits[0:3])\n",
    "print()"
   ]
  },
  {
   "cell_type": "markdown",
   "id": "03c81cc8",
   "metadata": {},
   "source": [
    "8. Access and print a slice of the list containing the last three elements."
   ]
  },
  {
   "cell_type": "code",
   "execution_count": 18,
   "id": "704f6195",
   "metadata": {},
   "outputs": [
    {
     "name": "stdout",
     "output_type": "stream",
     "text": [
      "['Passion', 'Bananas', 'Avocado']\n",
      "\n"
     ]
    }
   ],
   "source": [
    "print(fruits[2:5])\n",
    "print()"
   ]
  },
  {
   "cell_type": "markdown",
   "id": "d066ee05",
   "metadata": {},
   "source": [
    "9. Add a new fruit to the list using the `append()` method."
   ]
  },
  {
   "cell_type": "code",
   "execution_count": 20,
   "id": "d5023e1b",
   "metadata": {},
   "outputs": [
    {
     "name": "stdout",
     "output_type": "stream",
     "text": [
      "['Mango', 'Apple', 'Passion', 'Bananas', 'Avocado', 'Grapes']\n",
      "\n"
     ]
    }
   ],
   "source": [
    "fruits.append(\"Grapes\")\n",
    "print(fruits)\n",
    "print()"
   ]
  },
  {
   "cell_type": "markdown",
   "id": "2bc051cf",
   "metadata": {},
   "source": [
    "10. Add multiple fruits to the list using the `extend()` method."
   ]
  },
  {
   "cell_type": "code",
   "execution_count": 21,
   "id": "fb766999",
   "metadata": {},
   "outputs": [
    {
     "name": "stdout",
     "output_type": "stream",
     "text": [
      "['Mango', 'Apple', 'Passion', 'Bananas', 'Avocado', 'Grapes', 'Carrots', 'Pineapple', 'Guavas', 'Lemons']\n",
      "\n"
     ]
    }
   ],
   "source": [
    "fruits_1 = [\"Carrots\" , \"Pineapple\" , \"Guavas\" , \"Lemons\"]\n",
    "fruits.extend(fruits_1)\n",
    "print(fruits)\n",
    "print()"
   ]
  },
  {
   "cell_type": "markdown",
   "id": "d5f075df",
   "metadata": {},
   "source": [
    "11. Insert a fruit at a specific position in the list using the `insert()` method."
   ]
  },
  {
   "cell_type": "code",
   "execution_count": 22,
   "id": "79e83b96",
   "metadata": {},
   "outputs": [
    {
     "name": "stdout",
     "output_type": "stream",
     "text": [
      "['Mango', 'Apple', 'Passion', 'Cherry', 'Bananas', 'Avocado', 'Grapes', 'Carrots', 'Pineapple', 'Guavas', 'Lemons']\n",
      "\n"
     ]
    }
   ],
   "source": [
    "fruits.insert(3 , \"Cherry\")\n",
    "print(fruits)\n",
    "print()"
   ]
  },
  {
   "cell_type": "markdown",
   "id": "682f988c",
   "metadata": {},
   "source": [
    "12. Remove a fruit from the list using the `remove()` method."
   ]
  },
  {
   "cell_type": "code",
   "execution_count": 23,
   "id": "4b8aa5ec",
   "metadata": {},
   "outputs": [
    {
     "name": "stdout",
     "output_type": "stream",
     "text": [
      "['Mango', 'Apple', 'Passion', 'Cherry', 'Bananas', 'Avocado', 'Grapes', 'Carrots', 'Pineapple', 'Guavas']\n",
      "\n"
     ]
    }
   ],
   "source": [
    "fruits.remove(\"Lemons\")\n",
    "print(fruits)\n",
    "print()"
   ]
  },
  {
   "cell_type": "markdown",
   "id": "eb97aede",
   "metadata": {},
   "source": [
    "13. Remove the last fruit from the list using the `pop()` method."
   ]
  },
  {
   "cell_type": "code",
   "execution_count": 24,
   "id": "b8fe9866",
   "metadata": {},
   "outputs": [
    {
     "name": "stdout",
     "output_type": "stream",
     "text": [
      "['Mango', 'Apple', 'Passion', 'Cherry', 'Bananas', 'Avocado', 'Grapes', 'Carrots', 'Pineapple']\n",
      "\n"
     ]
    }
   ],
   "source": [
    "fruits.pop()\n",
    "print(fruits)\n",
    "print()"
   ]
  },
  {
   "cell_type": "markdown",
   "id": "70152109",
   "metadata": {},
   "source": [
    "14. Check if a specific fruit is present in the list using the `in` operator."
   ]
  },
  {
   "cell_type": "code",
   "execution_count": 26,
   "id": "2667ee67",
   "metadata": {},
   "outputs": [
    {
     "name": "stdout",
     "output_type": "stream",
     "text": [
      "YES, Cherry in fruits.\n",
      "\n",
      "NO, Lemon not in fruits.\n"
     ]
    }
   ],
   "source": [
    "if \"Cherry\" in fruits:\n",
    "    print(\"YES, Cherry in fruits.\")\n",
    "    \n",
    "print()\n",
    "\n",
    "if \"Lemon\" not in fruits:\n",
    "    print(\"NO, Lemon not in fruits.\")"
   ]
  },
  {
   "cell_type": "markdown",
   "id": "39f415ba",
   "metadata": {},
   "source": [
    "15. Find the index of a specific fruit in the list using the `index()` method."
   ]
  },
  {
   "cell_type": "code",
   "execution_count": 37,
   "id": "a7d3571d",
   "metadata": {},
   "outputs": [
    {
     "name": "stdout",
     "output_type": "stream",
     "text": [
      "Index of bananas is:  4\n",
      "\n"
     ]
    }
   ],
   "source": [
    "index_of_bananas = fruits.index(\"Bananas\")\n",
    "print(\"Index of bananas is: \",index_of_bananas)\n",
    "print()"
   ]
  },
  {
   "cell_type": "markdown",
   "id": "2904966a",
   "metadata": {},
   "source": [
    "16. Sort the list of fruits in alphabetical order using the `sort()` method."
   ]
  },
  {
   "cell_type": "code",
   "execution_count": 38,
   "id": "61d94583",
   "metadata": {},
   "outputs": [
    {
     "name": "stdout",
     "output_type": "stream",
     "text": [
      "['Apple', 'Avocado', 'Bananas', 'Carrots', 'Cherry', 'Grapes', 'Mango', 'Passion', 'Pineapple']\n",
      "\n"
     ]
    }
   ],
   "source": [
    "fruits.sort()\n",
    "print(fruits)\n",
    "print()"
   ]
  },
  {
   "cell_type": "markdown",
   "id": "1e4aba26",
   "metadata": {},
   "source": [
    "17. Reverse the order of elements in the list using the `reverse()` method."
   ]
  },
  {
   "cell_type": "code",
   "execution_count": 39,
   "id": "9b2edfc8",
   "metadata": {},
   "outputs": [
    {
     "name": "stdout",
     "output_type": "stream",
     "text": [
      "['Pineapple', 'Passion', 'Mango', 'Grapes', 'Cherry', 'Carrots', 'Bananas', 'Avocado', 'Apple']\n",
      "\n"
     ]
    }
   ],
   "source": [
    "fruits.sort(reverse=True)\n",
    "print(fruits)\n",
    "print()"
   ]
  },
  {
   "cell_type": "markdown",
   "id": "370398db",
   "metadata": {},
   "source": [
    "18. Create a copy of the list using the `copy()` method."
   ]
  },
  {
   "cell_type": "code",
   "execution_count": 40,
   "id": "2447df2a",
   "metadata": {},
   "outputs": [
    {
     "name": "stdout",
     "output_type": "stream",
     "text": [
      "['Pineapple', 'Passion', 'Mango', 'Grapes', 'Cherry', 'Carrots', 'Bananas', 'Avocado', 'Apple']\n",
      "\n"
     ]
    }
   ],
   "source": [
    "fruits_copy = fruits.copy()\n",
    "print(fruits_copy)\n",
    "print()"
   ]
  },
  {
   "cell_type": "markdown",
   "id": "ba7d2468",
   "metadata": {},
   "source": [
    "19. Count the occurrence of a specific fruit in the list using the `count()` method."
   ]
  },
  {
   "cell_type": "code",
   "execution_count": 5,
   "id": "26d1eebf",
   "metadata": {},
   "outputs": [
    {
     "name": "stdout",
     "output_type": "stream",
     "text": [
      "Mango occurs  3  times.\n"
     ]
    }
   ],
   "source": [
    "fruits_count = [\"Mango\" , \"Apple\" , \"Passion\" , \"Mango\" , \"Bananas\" , \"Avocado\" , \"Mango\"]\n",
    "mango_count = fruits_count.count(\"Mango\")\n",
    "print(\"Mango occurs \", mango_count ,\" times.\" )"
   ]
  },
  {
   "cell_type": "markdown",
   "id": "e6608490",
   "metadata": {},
   "source": [
    "20. Clear all elements from the list using the `clear()` method."
   ]
  },
  {
   "cell_type": "code",
   "execution_count": 12,
   "id": "e8724a00",
   "metadata": {},
   "outputs": [
    {
     "name": "stdout",
     "output_type": "stream",
     "text": [
      "['Mango', 'Apple', 'Passion', 'Mango', 'Bananas', 'Avocado', 'Mango']\n",
      "[]\n"
     ]
    }
   ],
   "source": [
    "fruits_count = [\"Mango\" , \"Apple\" , \"Passion\" , \"Mango\" , \"Bananas\" , \"Avocado\" , \"Mango\"]\n",
    "print(fruits_count)\n",
    "\n",
    "fruits_count.clear()\n",
    "print(fruits_count)"
   ]
  },
  {
   "cell_type": "markdown",
   "id": "23f18f96",
   "metadata": {},
   "source": [
    "# Mathematics Questions(PART B)"
   ]
  },
  {
   "cell_type": "markdown",
   "id": "423010ce",
   "metadata": {},
   "source": [
    "1. Write a Python program to calculate the sum of two numbers."
   ]
  },
  {
   "cell_type": "code",
   "execution_count": 14,
   "id": "c21c1435",
   "metadata": {},
   "outputs": [
    {
     "name": "stdout",
     "output_type": "stream",
     "text": [
      "15\n",
      "18\n"
     ]
    }
   ],
   "source": [
    "a = 10\n",
    "b = 5\n",
    "print(a+b)\n",
    "\n",
    "print(12+6)"
   ]
  },
  {
   "cell_type": "markdown",
   "id": "fc154000",
   "metadata": {},
   "source": [
    "2. Write a program to subtract two numbers and print the result."
   ]
  },
  {
   "cell_type": "code",
   "execution_count": 15,
   "id": "4cc91d98",
   "metadata": {},
   "outputs": [
    {
     "name": "stdout",
     "output_type": "stream",
     "text": [
      "16\n",
      "14\n"
     ]
    }
   ],
   "source": [
    "c = 24\n",
    "d = 8\n",
    "print(c-d)\n",
    "\n",
    "print(20-6)"
   ]
  },
  {
   "cell_type": "markdown",
   "id": "3a4cd8b1",
   "metadata": {},
   "source": [
    "3. Calculate the product of two numbers and display the output."
   ]
  },
  {
   "cell_type": "code",
   "execution_count": 16,
   "id": "2476b13d",
   "metadata": {},
   "outputs": [
    {
     "name": "stdout",
     "output_type": "stream",
     "text": [
      "40\n",
      "24\n"
     ]
    }
   ],
   "source": [
    "e = 8\n",
    "f = 5\n",
    "print(e*f)\n",
    "\n",
    "print(4*6)"
   ]
  },
  {
   "cell_type": "markdown",
   "id": "38d43e7b",
   "metadata": {},
   "source": [
    "4. Compute the quotient of two numbers using Python."
   ]
  },
  {
   "cell_type": "code",
   "execution_count": 18,
   "id": "ff22b33c",
   "metadata": {},
   "outputs": [
    {
     "name": "stdout",
     "output_type": "stream",
     "text": [
      "4.0\n",
      "2.5\n"
     ]
    }
   ],
   "source": [
    "g = 12\n",
    "h = 3\n",
    "i = 10\n",
    "j = 4\n",
    "\n",
    "Q = g/h\n",
    "R = i/j\n",
    "print(Q)\n",
    "print(R)"
   ]
  },
  {
   "cell_type": "markdown",
   "id": "09a34a3f",
   "metadata": {},
   "source": [
    "5. Write a program to calculate the square of a given number."
   ]
  },
  {
   "cell_type": "markdown",
   "id": "e84a6d76",
   "metadata": {},
   "source": [
    "# Functions."
   ]
  },
  {
   "cell_type": "markdown",
   "id": "035ab292",
   "metadata": {},
   "source": [
    "# In Python, we define a function using the def keyword followed by the function name and the parentheses containing any parameters the function takes."
   ]
  },
  {
   "cell_type": "markdown",
   "id": "f12c5d0a",
   "metadata": {},
   "source": [
    "def function_name(parameters):\n",
    "    #Function body\n",
    "    #Perform actions\n",
    "    #Return value (optional)\n",
    " \n",
    "Lets break down each part:\n",
    "\n",
    "     - def: This is the keyword used to define a function in Python.\n",
    "     -function_name: This is the name of the function. Choose a descriptive name that reflects what the function does.\n",
    "     -Parameters: These are the inputs that the functions accepts (optional). If the function does not take any parameters, we will need to include empty parentheses ().\n",
    "     -: :This colon indicates the start of the function body.\n",
    "     -Function body: This is where you write the code that the function executes. It can contain any valid python code.\n",
    "     -return Statement (optional): If the function produces a result, we can use the return statementnto send the result back to the code that called the function.\n",
    "     \n",
    "     \n",
    "       "
   ]
  },
  {
   "cell_type": "code",
   "execution_count": 1,
   "id": "9716b9ed",
   "metadata": {},
   "outputs": [
    {
     "name": "stdout",
     "output_type": "stream",
     "text": [
      "Enter first number: 50\n",
      "Enter second number: 12\n",
      "sum: 62.0\n"
     ]
    }
   ],
   "source": [
    "def sum_of_numbers(a,b):\n",
    "    return a+b\n",
    "\n",
    "num1 = float(input(\"Enter first number: \"))\n",
    "num2 = float(input(\"Enter second number: \"))\n",
    "print(\"sum:\" , sum_of_numbers(num1, num2))"
   ]
  },
  {
   "cell_type": "code",
   "execution_count": 3,
   "id": "1965dcbc",
   "metadata": {},
   "outputs": [
    {
     "name": "stdout",
     "output_type": "stream",
     "text": [
      "Enter first number: 78.8\n",
      "Enter second number: 23.5\n",
      "subtraction: 55.3\n"
     ]
    }
   ],
   "source": [
    "def sub_of_numbers(a,b):\n",
    "    return a-b\n",
    "\n",
    "num1 = float(input(\"Enter first number: \"))\n",
    "num2 = float(input(\"Enter second number: \"))\n",
    "print(\"subtraction:\" , sub_of_numbers(num1, num2))"
   ]
  },
  {
   "cell_type": "code",
   "execution_count": 4,
   "id": "ffd0cf16",
   "metadata": {},
   "outputs": [
    {
     "name": "stdout",
     "output_type": "stream",
     "text": [
      "Enter first number: 12\n",
      "Enter second number: 76\n",
      "product: 912.0\n"
     ]
    }
   ],
   "source": [
    "def product_of_numbers(a,b):\n",
    "    return a*b\n",
    "\n",
    "num1 = float(input(\"Enter first number: \"))\n",
    "num2 = float(input(\"Enter second number: \"))\n",
    "print(\"product:\" , product_of_numbers(num1, num2))"
   ]
  },
  {
   "cell_type": "code",
   "execution_count": 6,
   "id": "61529a7e",
   "metadata": {},
   "outputs": [
    {
     "name": "stdout",
     "output_type": "stream",
     "text": [
      "Enter first number: 48\n",
      "Enter second number: 12\n",
      "divide: 4.0\n"
     ]
    }
   ],
   "source": [
    "def division_of_numbers(a,b):\n",
    "    return a/b\n",
    "\n",
    "num1 = float(input(\"Enter first number: \"))\n",
    "num2 = float(input(\"Enter second number: \"))\n",
    "print(\"divide:\" , division_of_numbers(num1, num2))"
   ]
  },
  {
   "cell_type": "code",
   "execution_count": 8,
   "id": "676dcb33",
   "metadata": {},
   "outputs": [
    {
     "name": "stdout",
     "output_type": "stream",
     "text": [
      "Enter a number: 13.7\n",
      "square: 187.68999999999997\n"
     ]
    }
   ],
   "source": [
    "def square_number(x):\n",
    "    return x * x\n",
    "\n",
    "num = float(input(\"Enter a number: \"))\n",
    "print(\"square:\", square_number(num))"
   ]
  },
  {
   "cell_type": "code",
   "execution_count": 10,
   "id": "f7e80864",
   "metadata": {},
   "outputs": [
    {
     "name": "stdout",
     "output_type": "stream",
     "text": [
      "Enter a number: 23\n",
      "Square root: 4.795831523312719\n"
     ]
    }
   ],
   "source": [
    "import math\n",
    "\n",
    "def square_root(x):\n",
    "    return math.sqrt(x)\n",
    "\n",
    "num = float(input(\"Enter a number: \"))\n",
    "print(\"Square root:\", square_root(num))"
   ]
  },
  {
   "cell_type": "code",
   "execution_count": 14,
   "id": "e1e4854e",
   "metadata": {},
   "outputs": [
    {
     "name": "stdout",
     "output_type": "stream",
     "text": [
      "Enter a number: 3\n",
      "Factorial: 6\n"
     ]
    }
   ],
   "source": [
    "def factorial(n):\n",
    "    if n == 0:\n",
    "        return 1\n",
    "    else:\n",
    "        return n * factorial(n-1)\n",
    "    \n",
    "num = int(input(\"Enter a number: \"))\n",
    "print(\"Factorial:\", factorial(num))"
   ]
  },
  {
   "cell_type": "markdown",
   "id": "4bb1fe3d",
   "metadata": {},
   "source": [
    "# Working with Dictionary."
   ]
  },
  {
   "cell_type": "markdown",
   "id": "b9995da1",
   "metadata": {},
   "source": [
    "1. Average of Values: Given a dictionary where the keys are student names and the values\n",
    "are their exam scores, write a Python function to calculate the average score of all students."
   ]
  },
  {
   "cell_type": "code",
   "execution_count": 4,
   "id": "909af239",
   "metadata": {},
   "outputs": [
    {
     "name": "stdout",
     "output_type": "stream",
     "text": [
      "Average value:  76.0\n"
     ]
    }
   ],
   "source": [
    "students = {\n",
    "    \"John\" : 86,\n",
    "    \"Naomi\" : 72,\n",
    "    \"Deborah\" : 80,\n",
    "    \"Ayub\" : 68,\n",
    "    \"Jonah\" : 74\n",
    "}\n",
    "no_of_students = len(students.keys())\n",
    "sum_of_values = sum(students.values())\n",
    "average_value = (sum_of_values/no_of_students)\n",
    "print(\"Average value: \", average_value)"
   ]
  },
  {
   "cell_type": "markdown",
   "id": "b4f876a2",
   "metadata": {},
   "source": [
    "2. Maximum Value: Write a Python function to find the student with the highest score in a\n",
    "dictionary where keys are student names and values are exam scores."
   ]
  },
  {
   "cell_type": "code",
   "execution_count": 16,
   "id": "0246ed2e",
   "metadata": {},
   "outputs": [
    {
     "name": "stdout",
     "output_type": "stream",
     "text": [
      "High score: John 86\n"
     ]
    }
   ],
   "source": [
    "student_with_high_score = max(students, key=students.get)\n",
    "print(\"High score:\", student_with_high_score , students[student_with_high_score])"
   ]
  },
  {
   "cell_type": "markdown",
   "id": "288dc5a4",
   "metadata": {},
   "source": [
    "3. Sum of Values Based on Condition: Write a Python function to calculate the total score\n",
    "of students who scored above a certain threshold."
   ]
  },
  {
   "cell_type": "code",
   "execution_count": 38,
   "id": "73c8aa27",
   "metadata": {},
   "outputs": [
    {
     "name": "stdout",
     "output_type": "stream",
     "text": [
      "John 86\n",
      "Deborah 80\n",
      "\n",
      "Naomi 72\n",
      "Ayub 68\n",
      "Jonah 74\n"
     ]
    }
   ],
   "source": [
    "threshold = 75\n",
    "students_above_threshold = {name: score for name, score in students.items() if score > threshold}\n",
    "for name, score in students_above_threshold.items():\n",
    "    \n",
    "    print(name, score)\n",
    "print()\n",
    "#Students below threshold.\n",
    "students_below_threshold = {name: score for name, score in students.items() if score < threshold}\n",
    "for name, score in students_below_threshold.items():\n",
    "    \n",
    "    print(name, score)\n"
   ]
  },
  {
   "cell_type": "markdown",
   "id": "f438ffdb",
   "metadata": {},
   "source": [
    "4. Updating Values: Given a dictionary representing the inventory of items in a store\n",
    "(where keys are item names and values are quantities), write a Python function to update\n",
    "the inventory based on a purchase (another dictionary where keys are item names and\n",
    "values are quantities bought)."
   ]
  },
  {
   "cell_type": "code",
   "execution_count": 39,
   "id": "c4bf193b",
   "metadata": {},
   "outputs": [
    {
     "name": "stdout",
     "output_type": "stream",
     "text": [
      "{'Suits': 19, 'Shirts': 7, 'T-Shirts': 5, 'Bow-Tie': 3, 'Socks': 0}\n"
     ]
    }
   ],
   "source": [
    "inventory_in_store = {\n",
    "    \"Suits\" : 23,\n",
    "    \"Shirts\" : 15,\n",
    "    \"T-Shirts\" : 7,\n",
    "    \"Bow-Tie\" : 10,\n",
    "    \"Socks\" : 22\n",
    "}\n",
    "\n",
    "purchased_inventory = {\n",
    "    \"Suits\" : 4,\n",
    "    \"Shirts\" : 8,\n",
    "    \"T-Shirts\" : 2,\n",
    "    \"Bow-Tie\" : 7,\n",
    "    \"Socks\" : 22\n",
    "}\n",
    "\n",
    "updated_inventory = {}\n",
    "\n",
    "for item in inventory_in_store:\n",
    "    if item in purchased_inventory:\n",
    "        updated_inventory[item] = inventory_in_store[item] - purchased_inventory[item]\n",
    "    else:\n",
    "        updated_inventory[item] = inventory_in_store[item]\n",
    "            \n",
    "print(updated_inventory)\n",
    "        "
   ]
  },
  {
   "cell_type": "code",
   "execution_count": null,
   "id": "b7cbda80",
   "metadata": {},
   "outputs": [],
   "source": []
  }
 ],
 "metadata": {
  "kernelspec": {
   "display_name": "Python 3 (ipykernel)",
   "language": "python",
   "name": "python3"
  },
  "language_info": {
   "codemirror_mode": {
    "name": "ipython",
    "version": 3
   },
   "file_extension": ".py",
   "mimetype": "text/x-python",
   "name": "python",
   "nbconvert_exporter": "python",
   "pygments_lexer": "ipython3",
   "version": "3.10.9"
  }
 },
 "nbformat": 4,
 "nbformat_minor": 5
}
