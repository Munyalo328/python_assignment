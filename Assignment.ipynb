{
 "cells": [
  {
   "cell_type": "markdown",
   "id": "46fd0e07",
   "metadata": {},
   "source": [
    "PYTHON ASSIGNMENT\n",
    "\n",
    "PART A\n",
    "\n",
    "1. Create an empty list and add elements to it using different methods."
   ]
  },
  {
   "cell_type": "code",
   "execution_count": 1,
   "id": "7846d1fa",
   "metadata": {},
   "outputs": [
    {
     "name": "stdout",
     "output_type": "stream",
     "text": [
      "[]\n",
      "\n",
      "['javaScript', 'Java', 'Python', 'C', 'C++']\n",
      "\n",
      "['MySQL', 'PHP', 'C#', 'JQuery']\n",
      "\n",
      "['javaScript', 'Java', 'Python', 'C', 'C++', 'MySQL', 'PHP', 'C#', 'JQuery']\n",
      "\n"
     ]
    }
   ],
   "source": [
    "languages = []\n",
    "print(languages)\n",
    "print()\n",
    "\n",
    "languages.append(\"javaScript\")\n",
    "languages.append(\"Python\")\n",
    "languages.append(\"C\")\n",
    "languages.append(\"C++\")\n",
    "languages.insert(1, \"Java\")\n",
    "print(languages)\n",
    "print()\n",
    "\n",
    "langu_ages = [\"MySQL\" , \"PHP\" , \"C#\" , \"JQuery\"]\n",
    "print(langu_ages)\n",
    "print()\n",
    "\n",
    "languages.extend(langu_ages)\n",
    "print(languages)\n",
    "print()"
   ]
  },
  {
   "cell_type": "markdown",
   "id": "a1137246",
   "metadata": {},
   "source": [
    "2. Initialize a list with a sequence of numbers from 1 to 10."
   ]
  },
  {
   "cell_type": "code",
   "execution_count": 2,
   "id": "e114260b",
   "metadata": {},
   "outputs": [
    {
     "name": "stdout",
     "output_type": "stream",
     "text": [
      "[1, 2, 3, 4, 5, 6, 7, 8, 9, 10]\n",
      "\n"
     ]
    }
   ],
   "source": [
    "numbers = []\n",
    "for x in range(1, 11):\n",
    "    numbers.append(x)\n",
    "print(numbers)\n",
    "print()\n"
   ]
  },
  {
   "cell_type": "markdown",
   "id": "38c40f1c",
   "metadata": {},
   "source": [
    "3. Initialize a list with a sequence of even numbers from 2 to 20."
   ]
  },
  {
   "cell_type": "code",
   "execution_count": 3,
   "id": "13cb0639",
   "metadata": {},
   "outputs": [
    {
     "name": "stdout",
     "output_type": "stream",
     "text": [
      "[2, 4, 6, 8, 10, 12, 14, 16, 18, 20]\n",
      "\n"
     ]
    }
   ],
   "source": [
    "even_numbers = []\n",
    "for y in range(2 , 21, 2):\n",
    "    even_numbers.append(y)\n",
    "    \n",
    "print(even_numbers)\n",
    "print()"
   ]
  },
  {
   "cell_type": "markdown",
   "id": "fde704af",
   "metadata": {},
   "source": [
    "4. Create a list containing the names of your favorite fruits."
   ]
  },
  {
   "cell_type": "code",
   "execution_count": 4,
   "id": "fd3171c0",
   "metadata": {},
   "outputs": [
    {
     "name": "stdout",
     "output_type": "stream",
     "text": [
      "['Mango', 'Apple', 'Passion', 'Bananas', 'Avocado']\n",
      "\n"
     ]
    }
   ],
   "source": [
    "fruits = [\"Mango\" , \"Apple\" , \"Passion\" , \"Bananas\" , \"Avocado\"]\n",
    "print(fruits)\n",
    "print()"
   ]
  },
  {
   "cell_type": "markdown",
   "id": "22e8ba3d",
   "metadata": {},
   "source": [
    "5. Access and print the first element of the list."
   ]
  },
  {
   "cell_type": "code",
   "execution_count": 5,
   "id": "248ec7a9",
   "metadata": {},
   "outputs": [
    {
     "name": "stdout",
     "output_type": "stream",
     "text": [
      "Mango\n",
      "\n"
     ]
    }
   ],
   "source": [
    "print(fruits[0])\n",
    "print()"
   ]
  },
  {
   "cell_type": "markdown",
   "id": "02915108",
   "metadata": {},
   "source": [
    "6. Access and print the last element of the list."
   ]
  },
  {
   "cell_type": "code",
   "execution_count": 6,
   "id": "b716ff7d",
   "metadata": {},
   "outputs": [
    {
     "name": "stdout",
     "output_type": "stream",
     "text": [
      "Avocado\n",
      "\n"
     ]
    }
   ],
   "source": [
    "print(fruits[4])\n",
    "print()"
   ]
  },
  {
   "cell_type": "markdown",
   "id": "52e552c5",
   "metadata": {},
   "source": [
    "7. Access and print a slice of the list containing the first three elements."
   ]
  },
  {
   "cell_type": "code",
   "execution_count": 7,
   "id": "55b4512b",
   "metadata": {},
   "outputs": [
    {
     "name": "stdout",
     "output_type": "stream",
     "text": [
      "['Mango', 'Apple', 'Passion']\n",
      "\n"
     ]
    }
   ],
   "source": [
    "print(fruits[0:3])\n",
    "print()"
   ]
  },
  {
   "cell_type": "markdown",
   "id": "03c81cc8",
   "metadata": {},
   "source": [
    "8. Access and print a slice of the list containing the last three elements."
   ]
  },
  {
   "cell_type": "code",
   "execution_count": 8,
   "id": "704f6195",
   "metadata": {},
   "outputs": [
    {
     "name": "stdout",
     "output_type": "stream",
     "text": [
      "['Passion', 'Bananas', 'Avocado']\n",
      "\n"
     ]
    }
   ],
   "source": [
    "print(fruits[2:5])\n",
    "print()"
   ]
  },
  {
   "cell_type": "markdown",
   "id": "d066ee05",
   "metadata": {},
   "source": [
    "9. Add a new fruit to the list using the `append()` method."
   ]
  },
  {
   "cell_type": "code",
   "execution_count": 9,
   "id": "d5023e1b",
   "metadata": {},
   "outputs": [
    {
     "name": "stdout",
     "output_type": "stream",
     "text": [
      "['Mango', 'Apple', 'Passion', 'Bananas', 'Avocado', 'Grapes']\n",
      "\n"
     ]
    }
   ],
   "source": [
    "fruits.append(\"Grapes\")\n",
    "print(fruits)\n",
    "print()"
   ]
  },
  {
   "cell_type": "markdown",
   "id": "2bc051cf",
   "metadata": {},
   "source": [
    "10. Add multiple fruits to the list using the `extend()` method."
   ]
  },
  {
   "cell_type": "code",
   "execution_count": 10,
   "id": "fb766999",
   "metadata": {},
   "outputs": [
    {
     "name": "stdout",
     "output_type": "stream",
     "text": [
      "['Mango', 'Apple', 'Passion', 'Bananas', 'Avocado', 'Grapes', 'Carrots', 'Pineapple', 'Guavas', 'Lemons']\n",
      "\n"
     ]
    }
   ],
   "source": [
    "fruits_1 = [\"Carrots\" , \"Pineapple\" , \"Guavas\" , \"Lemons\"]\n",
    "fruits.extend(fruits_1)\n",
    "print(fruits)\n",
    "print()"
   ]
  },
  {
   "cell_type": "markdown",
   "id": "d5f075df",
   "metadata": {},
   "source": [
    "11. Insert a fruit at a specific position in the list using the `insert()` method."
   ]
  },
  {
   "cell_type": "code",
   "execution_count": 11,
   "id": "79e83b96",
   "metadata": {},
   "outputs": [
    {
     "name": "stdout",
     "output_type": "stream",
     "text": [
      "['Mango', 'Apple', 'Passion', 'Cherry', 'Bananas', 'Avocado', 'Grapes', 'Carrots', 'Pineapple', 'Guavas', 'Lemons']\n",
      "\n"
     ]
    }
   ],
   "source": [
    "fruits.insert(3 , \"Cherry\")\n",
    "print(fruits)\n",
    "print()"
   ]
  },
  {
   "cell_type": "markdown",
   "id": "682f988c",
   "metadata": {},
   "source": [
    "12. Remove a fruit from the list using the `remove()` method."
   ]
  },
  {
   "cell_type": "code",
   "execution_count": 12,
   "id": "4b8aa5ec",
   "metadata": {},
   "outputs": [
    {
     "name": "stdout",
     "output_type": "stream",
     "text": [
      "['Mango', 'Apple', 'Passion', 'Cherry', 'Bananas', 'Avocado', 'Grapes', 'Carrots', 'Pineapple', 'Guavas']\n",
      "\n"
     ]
    }
   ],
   "source": [
    "fruits.remove(\"Lemons\")\n",
    "print(fruits)\n",
    "print()"
   ]
  },
  {
   "cell_type": "markdown",
   "id": "eb97aede",
   "metadata": {},
   "source": [
    "13. Remove the last fruit from the list using the `pop()` method."
   ]
  },
  {
   "cell_type": "code",
   "execution_count": 13,
   "id": "b8fe9866",
   "metadata": {},
   "outputs": [
    {
     "name": "stdout",
     "output_type": "stream",
     "text": [
      "['Mango', 'Apple', 'Passion', 'Cherry', 'Bananas', 'Avocado', 'Grapes', 'Carrots', 'Pineapple']\n",
      "\n"
     ]
    }
   ],
   "source": [
    "fruits.pop()\n",
    "print(fruits)\n",
    "print()"
   ]
  },
  {
   "cell_type": "markdown",
   "id": "70152109",
   "metadata": {},
   "source": [
    "14. Check if a specific fruit is present in the list using the `in` operator."
   ]
  },
  {
   "cell_type": "code",
   "execution_count": 14,
   "id": "2667ee67",
   "metadata": {},
   "outputs": [
    {
     "name": "stdout",
     "output_type": "stream",
     "text": [
      "YES, Cherry in fruits.\n",
      "\n",
      "NO, Lemon not in fruits.\n"
     ]
    }
   ],
   "source": [
    "if \"Cherry\" in fruits:\n",
    "    print(\"YES, Cherry in fruits.\")\n",
    "    \n",
    "print()\n",
    "\n",
    "if \"Lemon\" not in fruits:\n",
    "    print(\"NO, Lemon not in fruits.\")"
   ]
  },
  {
   "cell_type": "markdown",
   "id": "39f415ba",
   "metadata": {},
   "source": [
    "15. Find the index of a specific fruit in the list using the `index()` method."
   ]
  },
  {
   "cell_type": "code",
   "execution_count": 15,
   "id": "a7d3571d",
   "metadata": {},
   "outputs": [
    {
     "name": "stdout",
     "output_type": "stream",
     "text": [
      "Index of bananas is:  4\n",
      "\n"
     ]
    }
   ],
   "source": [
    "index_of_bananas = fruits.index(\"Bananas\")\n",
    "print(\"Index of bananas is: \",index_of_bananas)\n",
    "print()"
   ]
  },
  {
   "cell_type": "markdown",
   "id": "2904966a",
   "metadata": {},
   "source": [
    "16. Sort the list of fruits in alphabetical order using the `sort()` method."
   ]
  },
  {
   "cell_type": "code",
   "execution_count": 16,
   "id": "61d94583",
   "metadata": {},
   "outputs": [
    {
     "name": "stdout",
     "output_type": "stream",
     "text": [
      "['Apple', 'Avocado', 'Bananas', 'Carrots', 'Cherry', 'Grapes', 'Mango', 'Passion', 'Pineapple']\n",
      "\n"
     ]
    }
   ],
   "source": [
    "fruits.sort()\n",
    "print(fruits)\n",
    "print()"
   ]
  },
  {
   "cell_type": "markdown",
   "id": "1e4aba26",
   "metadata": {},
   "source": [
    "17. Reverse the order of elements in the list using the `reverse()` method."
   ]
  },
  {
   "cell_type": "code",
   "execution_count": 17,
   "id": "9b2edfc8",
   "metadata": {},
   "outputs": [
    {
     "name": "stdout",
     "output_type": "stream",
     "text": [
      "['Pineapple', 'Passion', 'Mango', 'Grapes', 'Cherry', 'Carrots', 'Bananas', 'Avocado', 'Apple']\n",
      "\n"
     ]
    }
   ],
   "source": [
    "fruits.sort(reverse=True)\n",
    "print(fruits)\n",
    "print()"
   ]
  },
  {
   "cell_type": "markdown",
   "id": "370398db",
   "metadata": {},
   "source": [
    "18. Create a copy of the list using the `copy()` method."
   ]
  },
  {
   "cell_type": "code",
   "execution_count": 18,
   "id": "2447df2a",
   "metadata": {},
   "outputs": [
    {
     "name": "stdout",
     "output_type": "stream",
     "text": [
      "['Pineapple', 'Passion', 'Mango', 'Grapes', 'Cherry', 'Carrots', 'Bananas', 'Avocado', 'Apple']\n",
      "\n"
     ]
    }
   ],
   "source": [
    "fruits_copy = fruits.copy()\n",
    "print(fruits_copy)\n",
    "print()"
   ]
  },
  {
   "cell_type": "markdown",
   "id": "ba7d2468",
   "metadata": {},
   "source": [
    "19. Count the occurrence of a specific fruit in the list using the `count()` method."
   ]
  },
  {
   "cell_type": "code",
   "execution_count": 19,
   "id": "26d1eebf",
   "metadata": {},
   "outputs": [
    {
     "name": "stdout",
     "output_type": "stream",
     "text": [
      "Mango occurs  3  times.\n"
     ]
    }
   ],
   "source": [
    "fruits_count = [\"Mango\" , \"Apple\" , \"Passion\" , \"Mango\" , \"Bananas\" , \"Avocado\" , \"Mango\"]\n",
    "mango_count = fruits_count.count(\"Mango\")\n",
    "print(\"Mango occurs \", mango_count ,\" times.\" )"
   ]
  },
  {
   "cell_type": "markdown",
   "id": "e6608490",
   "metadata": {},
   "source": [
    "20. Clear all elements from the list using the `clear()` method."
   ]
  },
  {
   "cell_type": "code",
   "execution_count": 20,
   "id": "e8724a00",
   "metadata": {},
   "outputs": [
    {
     "name": "stdout",
     "output_type": "stream",
     "text": [
      "['Mango', 'Apple', 'Passion', 'Mango', 'Bananas', 'Avocado', 'Mango']\n",
      "[]\n"
     ]
    }
   ],
   "source": [
    "fruits_count = [\"Mango\" , \"Apple\" , \"Passion\" , \"Mango\" , \"Bananas\" , \"Avocado\" , \"Mango\"]\n",
    "print(fruits_count)\n",
    "\n",
    "fruits_count.clear()\n",
    "print(fruits_count)"
   ]
  },
  {
   "cell_type": "markdown",
   "id": "23f18f96",
   "metadata": {},
   "source": [
    "# Mathematics Questions(PART B)"
   ]
  },
  {
   "cell_type": "markdown",
   "id": "423010ce",
   "metadata": {},
   "source": [
    "1. Write a Python program to calculate the sum of two numbers."
   ]
  },
  {
   "cell_type": "code",
   "execution_count": 21,
   "id": "c21c1435",
   "metadata": {},
   "outputs": [
    {
     "name": "stdout",
     "output_type": "stream",
     "text": [
      "15\n",
      "18\n"
     ]
    }
   ],
   "source": [
    "a = 10\n",
    "b = 5\n",
    "print(a+b)\n",
    "\n",
    "print(12+6)"
   ]
  },
  {
   "cell_type": "markdown",
   "id": "fc154000",
   "metadata": {},
   "source": [
    "2. Write a program to subtract two numbers and print the result."
   ]
  },
  {
   "cell_type": "code",
   "execution_count": 22,
   "id": "4cc91d98",
   "metadata": {},
   "outputs": [
    {
     "name": "stdout",
     "output_type": "stream",
     "text": [
      "16\n",
      "14\n"
     ]
    }
   ],
   "source": [
    "c = 24\n",
    "d = 8\n",
    "print(c-d)\n",
    "\n",
    "print(20-6)"
   ]
  },
  {
   "cell_type": "markdown",
   "id": "3a4cd8b1",
   "metadata": {},
   "source": [
    "3. Calculate the product of two numbers and display the output."
   ]
  },
  {
   "cell_type": "code",
   "execution_count": 23,
   "id": "2476b13d",
   "metadata": {},
   "outputs": [
    {
     "name": "stdout",
     "output_type": "stream",
     "text": [
      "40\n",
      "24\n"
     ]
    }
   ],
   "source": [
    "e = 8\n",
    "f = 5\n",
    "print(e*f)\n",
    "\n",
    "print(4*6)"
   ]
  },
  {
   "cell_type": "markdown",
   "id": "38d43e7b",
   "metadata": {},
   "source": [
    "4. Compute the quotient of two numbers using Python."
   ]
  },
  {
   "cell_type": "code",
   "execution_count": 24,
   "id": "ff22b33c",
   "metadata": {},
   "outputs": [
    {
     "name": "stdout",
     "output_type": "stream",
     "text": [
      "4.0\n",
      "2.5\n"
     ]
    }
   ],
   "source": [
    "g = 12\n",
    "h = 3\n",
    "i = 10\n",
    "j = 4\n",
    "\n",
    "Q = g/h\n",
    "R = i/j\n",
    "print(Q)\n",
    "print(R)"
   ]
  },
  {
   "cell_type": "markdown",
   "id": "09a34a3f",
   "metadata": {},
   "source": [
    "5. Write a program to calculate the square of a given number."
   ]
  },
  {
   "cell_type": "markdown",
   "id": "e84a6d76",
   "metadata": {},
   "source": [
    "# Functions."
   ]
  },
  {
   "cell_type": "markdown",
   "id": "035ab292",
   "metadata": {},
   "source": [
    "# In Python, we define a function using the def keyword followed by the function name and the parentheses containing any parameters the function takes."
   ]
  },
  {
   "cell_type": "markdown",
   "id": "f12c5d0a",
   "metadata": {},
   "source": [
    "def function_name(parameters):\n",
    "    #Function body\n",
    "    #Perform actions\n",
    "    #Return value (optional)\n",
    " \n",
    "Lets break down each part:\n",
    "\n",
    "     - def: This is the keyword used to define a function in Python.\n",
    "     -function_name: This is the name of the function. Choose a descriptive name that reflects what the function does.\n",
    "     -Parameters: These are the inputs that the functions accepts (optional). If the function does not take any parameters, we will need to include empty parentheses ().\n",
    "     -: :This colon indicates the start of the function body.\n",
    "     -Function body: This is where you write the code that the function executes. It can contain any valid python code.\n",
    "     -return Statement (optional): If the function produces a result, we can use the return statementnto send the result back to the code that called the function.\n",
    "     \n",
    "     \n",
    "       "
   ]
  },
  {
   "cell_type": "code",
   "execution_count": null,
   "id": "9716b9ed",
   "metadata": {},
   "outputs": [],
   "source": [
    "def sum_of_numbers(a,b):\n",
    "    return a+b\n",
    "\n",
    "num1 = float(input(\"Enter first number: \"))\n",
    "num2 = float(input(\"Enter second number: \"))\n",
    "print(\"sum:\" , sum_of_numbers(num1, num2))"
   ]
  },
  {
   "cell_type": "code",
   "execution_count": null,
   "id": "1965dcbc",
   "metadata": {},
   "outputs": [],
   "source": [
    "def sub_of_numbers(a,b):\n",
    "    return a-b\n",
    "\n",
    "num1 = float(input(\"Enter first number: \"))\n",
    "num2 = float(input(\"Enter second number: \"))\n",
    "print(\"subtraction:\" , sub_of_numbers(num1, num2))"
   ]
  },
  {
   "cell_type": "code",
   "execution_count": null,
   "id": "ffd0cf16",
   "metadata": {},
   "outputs": [],
   "source": [
    "def product_of_numbers(a,b):\n",
    "    return a*b\n",
    "\n",
    "num1 = float(input(\"Enter first number: \"))\n",
    "num2 = float(input(\"Enter second number: \"))\n",
    "print(\"product:\" , product_of_numbers(num1, num2))"
   ]
  },
  {
   "cell_type": "code",
   "execution_count": null,
   "id": "61529a7e",
   "metadata": {},
   "outputs": [],
   "source": [
    "def division_of_numbers(a,b):\n",
    "    return a/b\n",
    "\n",
    "num1 = float(input(\"Enter first number: \"))\n",
    "num2 = float(input(\"Enter second number: \"))\n",
    "print(\"divide:\" , division_of_numbers(num1, num2))"
   ]
  },
  {
   "cell_type": "code",
   "execution_count": null,
   "id": "676dcb33",
   "metadata": {},
   "outputs": [],
   "source": [
    "def square_number(x):\n",
    "    return x * x\n",
    "\n",
    "num = float(input(\"Enter a number: \"))\n",
    "print(\"square:\", square_number(num))"
   ]
  },
  {
   "cell_type": "code",
   "execution_count": null,
   "id": "f7e80864",
   "metadata": {},
   "outputs": [],
   "source": [
    "import math\n",
    "\n",
    "def square_root(x):\n",
    "    return math.sqrt(x)\n",
    "\n",
    "num = float(input(\"Enter a number: \"))\n",
    "print(\"Square root:\", square_root(num))"
   ]
  },
  {
   "cell_type": "code",
   "execution_count": 11,
   "id": "e1e4854e",
   "metadata": {},
   "outputs": [
    {
     "name": "stdout",
     "output_type": "stream",
     "text": [
      "Enter a number: 5\n",
      "Factorial: 120\n"
     ]
    }
   ],
   "source": [
    "def factorial(n):\n",
    "    if n == 0:\n",
    "        return 1\n",
    "    else:\n",
    "        return n * factorial(n-1)\n",
    "    \n",
    "num = int(input(\"Enter a number: \"))\n",
    "print(\"Factorial:\", factorial(num))"
   ]
  },
  {
   "cell_type": "markdown",
   "id": "a9aa9cce",
   "metadata": {},
   "source": [
    "# Working with Dictionary."
   ]
  },
  {
   "cell_type": "markdown",
   "id": "784fbf64",
   "metadata": {},
   "source": [
    "1. Average of Values: Given a dictionary where the keys are student names and the values\n",
    "are their exam scores, write a Python function to calculate the average score of all students."
   ]
  },
  {
   "cell_type": "code",
   "execution_count": null,
   "id": "6545ad2a",
   "metadata": {},
   "outputs": [],
   "source": [
    "students = {\n",
    "    \"John\" : 86,\n",
    "    \"Naomi\" : 72,\n",
    "    \"Deborah\" : 80,\n",
    "    \"Ayub\" : 68,\n",
    "    \"Jonah\" : 74\n",
    "}\n",
    "no_of_students = len(students.keys())\n",
    "sum_of_values = sum(students.values())\n",
    "average_value = (sum_of_values/no_of_students)\n",
    "print(\"Average value: \", average_value)"
   ]
  },
  {
   "cell_type": "markdown",
   "id": "42656e98",
   "metadata": {},
   "source": [
    "2. Maximum Value: Write a Python function to find the student with the highest score in a\n",
    "dictionary where keys are student names and values are exam scores."
   ]
  },
  {
   "cell_type": "code",
   "execution_count": null,
   "id": "ed475006",
   "metadata": {},
   "outputs": [],
   "source": [
    "student_with_high_score = max(students, key=students.get)\n",
    "print(\"High score:\", student_with_high_score , students[student_with_high_score])"
   ]
  },
  {
   "cell_type": "markdown",
   "id": "e8356aba",
   "metadata": {},
   "source": [
    "3. Sum of Values Based on Condition: Write a Python function to calculate the total score\n",
    "of students who scored above a certain threshold."
   ]
  },
  {
   "cell_type": "code",
   "execution_count": null,
   "id": "a18dc706",
   "metadata": {},
   "outputs": [],
   "source": [
    "threshold = 75\n",
    "students_above_threshold = {name: score for name, score in students.items() if score > threshold}\n",
    "for name, score in students_above_threshold.items():\n",
    "    \n",
    "    print(name, score)\n",
    "print()\n",
    "#Students below threshold.\n",
    "students_below_threshold = {name: score for name, score in students.items() if score < threshold}\n",
    "for name, score in students_below_threshold.items():\n",
    "    \n",
    "    print(name, score)\n"
   ]
  },
  {
   "cell_type": "markdown",
   "id": "460f0804",
   "metadata": {},
   "source": [
    "4. Updating Values: Given a dictionary representing the inventory of items in a store\n",
    "(where keys are item names and values are quantities), write a Python function to update\n",
    "the inventory based on a purchase (another dictionary where keys are item names and\n",
    "values are quantities bought)."
   ]
  },
  {
   "cell_type": "code",
   "execution_count": null,
   "id": "c0c9816e",
   "metadata": {},
   "outputs": [],
   "source": [
    "inventory_in_store = {\n",
    "    \"Suits\" : 23,\n",
    "    \"Shirts\" : 15,\n",
    "    \"T-Shirts\" : 7,\n",
    "    \"Bow-Tie\" : 10,\n",
    "    \"Socks\" : 22\n",
    "}\n",
    "\n",
    "purchased_inventory = {\n",
    "    \"Suits\" : 4,\n",
    "    \"Shirts\" : 8,\n",
    "    \"T-Shirts\" : 2,\n",
    "    \"Bow-Tie\" : 7,\n",
    "    \"Socks\" : 22\n",
    "}\n",
    "\n",
    "updated_inventory = {}\n",
    "\n",
    "for item in inventory_in_store:\n",
    "    if item in purchased_inventory:\n",
    "        updated_inventory[item] = inventory_in_store[item] - purchased_inventory[item]\n",
    "    else:\n",
    "        updated_inventory[item] = inventory_in_store[item]\n",
    "            \n",
    "print(updated_inventory)\n",
    "        "
   ]
  },
  {
   "cell_type": "markdown",
   "id": "f6cc557f",
   "metadata": {},
   "source": [
    "# Assignment\n",
    "\n",
    "1. **Countdown**: Write a Python program that prompts the user to enter a number and then counts down to zero from that number using a `while` loop. For example, if the user enters 5, the program should output: 5, 4, 3, 2, 1, 0."
   ]
  },
  {
   "cell_type": "code",
   "execution_count": 1,
   "id": "9df65566",
   "metadata": {},
   "outputs": [
    {
     "name": "stdout",
     "output_type": "stream",
     "text": [
      "Enter a number: 10\n",
      "10\n",
      "9\n",
      "8\n",
      "7\n",
      "6\n",
      "5\n",
      "4\n",
      "3\n",
      "2\n",
      "1\n",
      "0\n"
     ]
    }
   ],
   "source": [
    "num = int(input(\"Enter a number: \"))\n",
    "\n",
    "while num > -1:\n",
    "    print(num)\n",
    "    num -= 1"
   ]
  },
  {
   "cell_type": "markdown",
   "id": "574ae6e8",
   "metadata": {},
   "source": [
    "2. **Sum of Even Numbers**: Create a Python program that asks the user to input a number and then calculates the sum of all even numbers between 1 and the given number using a `while` loop. For instance, if the user enters 10, the program should compute the sum of 2, 4, 6, 8, and 10, which is 30.\n"
   ]
  },
  {
   "cell_type": "code",
   "execution_count": 4,
   "id": "58c6817c",
   "metadata": {},
   "outputs": [
    {
     "name": "stdout",
     "output_type": "stream",
     "text": [
      "Enter a number: 20\n",
      "The sum of Even Numbers between 1 and 20 is:  110\n"
     ]
    }
   ],
   "source": [
    "number = int(input(\"Enter a number: \"))\n",
    "\n",
    "sum_of_even = 0\n",
    "\n",
    "current_num = 2\n",
    "\n",
    "while current_num <= number:\n",
    "    \n",
    "    sum_of_even += current_num\n",
    "    current_num += 2\n",
    "\n",
    "print(\"The sum of Even Numbers between 1 and\", number ,\"is: \", sum_of_even)"
   ]
  },
  {
   "cell_type": "markdown",
   "id": "b80af09a",
   "metadata": {},
   "source": [
    "3. **Password Checker**: Develop a Python program that simulates a password checker. The program should prompt the user to enter a password, and it should keep prompting until the correct password is entered. Once the correct password is entered, the program should print a success message.\n"
   ]
  },
  {
   "cell_type": "code",
   "execution_count": 6,
   "id": "d73703a0",
   "metadata": {},
   "outputs": [
    {
     "name": "stdout",
     "output_type": "stream",
     "text": [
      "Enter Name: meshack\n",
      "Enter Password: munyalo\n",
      "Access Denied. Try again!\n",
      "Enter password: Nairobi123\n",
      "Access Granted\n"
     ]
    }
   ],
   "source": [
    "name = input(\"Enter Name: \")\n",
    "\n",
    "password = input(\"Enter Password: \")\n",
    "\n",
    "correct_password = \"Nairobi123\"\n",
    "\n",
    "while password != correct_password:\n",
    "    \n",
    "    print(\"Access Denied. Try again!\")\n",
    "    password = input(\"Enter password: \")\n",
    "    \n",
    "print(\"Access Granted\")"
   ]
  },
  {
   "cell_type": "markdown",
   "id": "10c8e8c7",
   "metadata": {},
   "source": [
    "4. **Guessing Game**: Write a Python program that implements a simple number guessing game. The program should generate a random number between 1 and 100, and then prompt the user to guess the number. Provide feedback to the user if their guess is too high or too low, and continue prompting until the correct number is guessed. Once the correct number is guessed, print a congratulatory message along with the number of attempts it took to guess the number."
   ]
  },
  {
   "cell_type": "code",
   "execution_count": 10,
   "id": "568788d8",
   "metadata": {},
   "outputs": [
    {
     "name": "stdout",
     "output_type": "stream",
     "text": [
      "Welcome to my Number Guessing Game!\n",
      "I've picked a random number between 1 and 100. Can you guess it?\n",
      "Enter your guess: 100\n",
      "Too high! Try again.\n",
      "Enter your guess: 50\n",
      "Too low! Try again.\n",
      "Enter your guess: 75\n",
      "Too high! Try again.\n",
      "Enter your guess: 60\n",
      "Too high! Try again.\n",
      "Enter your guess: 55\n",
      "Too low! Try again.\n",
      "Enter your guess: 57\n",
      "Too high! Try again.\n",
      "Enter your guess: 56\n",
      "Congratulations! You've guessed the number 56 correctly!\n",
      "It took you 7 attempts to guess the number.\n"
     ]
    }
   ],
   "source": [
    "import random\n",
    "\n",
    "# Generate a random number between 1 and 100\n",
    "guess_number = random.randint(1, 100)\n",
    "\n",
    "# Initialize a variable to count the number of attempts\n",
    "attempts = 0\n",
    "\n",
    "# Start the guessing game\n",
    "print(\"Welcome to my Number Guessing Game!\")\n",
    "print(\"I've picked a random number between 1 and 100. Can you guess it?\")\n",
    "\n",
    "while True:\n",
    "    # Prompt the user to guess the number\n",
    "    guess = int(input(\"Enter your guess: \"))\n",
    "    \n",
    "    # Increment the number of attempts\n",
    "    attempts += 1\n",
    "    \n",
    "    # Check if the guess is correct\n",
    "    if guess == guess_number:\n",
    "        print(\"Congratulations! You've guessed the number\", guess_number , \"correctly!\")\n",
    "        print(\"It took you\", attempts, \"attempts to guess the number.\")\n",
    "        break\n",
    "    elif guess < guess_number:\n",
    "        print(\"Too low! Try again.\")\n",
    "    else:\n",
    "        print(\"Too high! Try again.\")\n"
   ]
  },
  {
   "cell_type": "markdown",
   "id": "2089f95b",
   "metadata": {},
   "source": [
    "**Explanation:**\n",
    "\n",
    "1. Import the `random` module to generate random numbers.\n",
    "\n",
    "2. Use `random.randint(1, 100`) to generate a random number between 1 and 100 and assign it to `guess_number`.\n",
    "\n",
    "3. Start a `while` loop that continues indefinitely `(while True)`.\n",
    "\n",
    "4. Inside the loop:\n",
    "\n",
    "- Prompt the user to guess the number using `input()`.\n",
    "\n",
    "- Convert the user's input to an integer using `int()`.\n",
    "\n",
    "- Increment the `attempts` variable to count the number of attempts.\n",
    "\n",
    "- Check if the user's guess is correct:\n",
    "\n",
    "  - If the guess matches the `guess_number`, print a congratulatory message along with the number of attempts and break out of the loop.\n",
    "  \n",
    "  - If the guess is too low, print a message informing the user and prompt them to try again.\n",
    "  \n",
    "  - If the guess is too high, print a message informing the user and prompt them to try again."
   ]
  },
  {
   "cell_type": "markdown",
   "id": "ecf29ed2",
   "metadata": {},
   "source": [
    "5. **Factorial Calculator**: Develop a Python program that calculates the factorial of a given number using a `while` loop. The program should prompt the user to enter a non-negative integer, and then compute its factorial. The factorial of a number \\( n \\) is the product of all positive integers less than or equal to \\( n \\). For example, the factorial of 5 (\\( 5! \\)) is \\( 5 \\times 4 \\times 3 \\times 2 \\times 1 = 120 \\)."
   ]
  },
  {
   "cell_type": "code",
   "execution_count": 4,
   "id": "3ddd5d44",
   "metadata": {},
   "outputs": [
    {
     "name": "stdout",
     "output_type": "stream",
     "text": [
      "Enter a number: 6\n",
      "Factorial:  720\n"
     ]
    }
   ],
   "source": [
    "def factorial(n):\n",
    "    \n",
    "    while n == 0:\n",
    "        return 1    # Base case: factorial of 0 is 1\n",
    "    n > 0\n",
    "    return n * factorial(n-1)     # Recursive call to calculate factorial\n",
    "\n",
    "number = int(input(\"Enter a number: \"))\n",
    "\n",
    "print(\"Factorial: \", factorial(number))\n"
   ]
  },
  {
   "cell_type": "code",
   "execution_count": null,
   "id": "093fcca0",
   "metadata": {},
   "outputs": [],
   "source": []
  }
 ],
 "metadata": {
  "kernelspec": {
   "display_name": "Python 3 (ipykernel)",
   "language": "python",
   "name": "python3"
  },
  "language_info": {
   "codemirror_mode": {
    "name": "ipython",
    "version": 3
   },
   "file_extension": ".py",
   "mimetype": "text/x-python",
   "name": "python",
   "nbconvert_exporter": "python",
   "pygments_lexer": "ipython3",
   "version": "3.10.9"
  }
 },
 "nbformat": 4,
 "nbformat_minor": 5
}
